{
 "cells": [
  {
   "attachments": {},
   "cell_type": "markdown",
   "metadata": {},
   "source": [
    "POO --> Programacion Orientada a Objetos\n",
    "Objeto --> representacion en un lenguaje de progracion de algo en el mundo real\n",
    "Metodos --> acciones que realizan los objetos\n",
    "- Se crean los objetos instanciando a una clase que crea al objeto\n",
    "    class Dino:\n",
    "        encendido = False\n",
    "        def enciende(self):\n",
    "            pass\n",
    "- Una clase puede contener variables de clase o metodos(funciones de clase)\n",
    "- Clases dinamicas usan self, las clases estaticas no.\n",
    "- Herencia: creamos una clase base con los metodos y propiedades comunes para luego crear clases derivadas que implementen la funcionalidad especial de esa clase\n",
    "- Constructor se usa para tener la clase en un estado predeterminado.\n",
    "- Constructor emplea __init__.\n",
    "- Destructor emplea __del__. Se invoca en el momento en el cual no hay mas referencias a la clase.\n",
    "- Los constructores pueden invocar a los constructores de los padres:\n",
    "    Metodo1: nombreDelPadre.__init__(self, parametro)\n",
    "    Metodo2: Este es el mas usado, super.__init__(parametro)\n",
    "- Las clases en python son diccionarios.\n",
    "Clase abstracta--> sirve para definir un conjunto de funciones comunes a otras clases\n",
    "- para usar clases abstractas usamos:\n",
    "    from abc import ABC, abstractmethod\n",
    "    class Animal(ABC):\n",
    "        @abstractmethod\n",
    "        def sonido(self):\n",
    "            pass\n",
    "- Una clase abstracta no se puede instanciar, para instanciarla es necesario derivarla.\n",
    "    class Gato(Animal):\n",
    "        def sonido(self):\n",
    "            print('miau')\n",
    "- Las funciones abstractas contienen implementacion parciales de una funcionalidad dejando al programador implementar la funcionalidad concreta.\n",
    "\n",
    "- Composicion: una clase esta compuesta de otras clases.\n",
    "- Cuando tenemos una clase que hace referencia a otra hablamos de composicion, una clase que esta compuesta por sus propios metodos y propiedades e instacias a otras clases.\n"
   ]
  }
 ],
 "metadata": {
  "kernelspec": {
   "display_name": "Python 3",
   "language": "python",
   "name": "python3"
  },
  "language_info": {
   "codemirror_mode": {
    "name": "ipython",
    "version": 3
   },
   "file_extension": ".py",
   "mimetype": "text/x-python",
   "name": "python",
   "nbconvert_exporter": "python",
   "pygments_lexer": "ipython3",
   "version": "3.11.0"
  },
  "orig_nbformat": 4,
  "vscode": {
   "interpreter": {
    "hash": "9adc08c4c44d14e62d286c3a02ffa018f57bdb6798e351c4e38c49c69432e58f"
   }
  }
 },
 "nbformat": 4,
 "nbformat_minor": 2
}
