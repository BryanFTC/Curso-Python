{
 "cells": [
  {
   "cell_type": "markdown",
   "metadata": {},
   "source": [
    "En python hay Inmutabilidad y Mutabilidad\n",
    "\n",
    "\"Las variables en python son una referencia en a una zona de memoria en donde hay un valor exacto.\"\n",
    "\n",
    "Inmutabilidad - Existen 3 tipos de datos inmutables:\n",
    "- Numeros\n",
    "- Cadenas de texto\n",
    "- Tuplas"
   ]
  },
  {
   "cell_type": "markdown",
   "metadata": {},
   "source": [
    "- Listas: los valores que contiene se pueden repetir "
   ]
  },
  {
   "cell_type": "code",
   "execution_count": 1,
   "metadata": {},
   "outputs": [
    {
     "name": "stdout",
     "output_type": "stream",
     "text": [
      "[1, 2, 3, 4, 3]\n"
     ]
    }
   ],
   "source": [
    "lista = [1,2,3,4,3]\n",
    "print(lista)"
   ]
  },
  {
   "cell_type": "markdown",
   "metadata": {},
   "source": [
    "- Conjuntos: los valores que contiene no se pueden repetir. Los conjuntos tienen propiedades (| union, & interseccion, - diferencia, ^ difencias simetricas(valores que no se repiten entre uno y otro))"
   ]
  },
  {
   "cell_type": "code",
   "execution_count": null,
   "metadata": {},
   "outputs": [],
   "source": [
    "conjunto = {1,2,3,5,4}"
   ]
  },
  {
   "cell_type": "markdown",
   "metadata": {},
   "source": [
    "En python usamos:\n",
    "- numeros\n",
    "- cadenas\n",
    "- booleanos\n",
    "- flotante\n",
    "- lista\n",
    "- tuplas\n",
    "- diccionario\n",
    "- conjunto"
   ]
  },
  {
   "cell_type": "code",
   "execution_count": null,
   "metadata": {},
   "outputs": [],
   "source": [
    "mitexto = \"hola, esto es un textO\"\n",
    "\n",
    "mitexto.capitalize()\n",
    "mitexto.title()\n",
    "mitexto.lower()\n",
    "mitexto.upper()\n",
    "mitexto.replace('a', 'o')\n",
    "mitexto.find(\"esto\")\n",
    "mitexto.split()\n",
    "mitexto.split(',')"
   ]
  },
  {
   "cell_type": "markdown",
   "metadata": {},
   "source": [
    "Operadores matematicos: -, +, %, //, *, **, -=, +=, /=, *=, **=\n",
    "Comparacion: ==, !=, >, >=, <, <=\n",
    "Identidad: is, is not\n",
    "Membresia: in, not in\n",
    "bit: &, |, ^, ~, <<, >>"
   ]
  }
 ],
 "metadata": {
  "kernelspec": {
   "display_name": "Python 3.11.0 64-bit",
   "language": "python",
   "name": "python3"
  },
  "language_info": {
   "codemirror_mode": {
    "name": "ipython",
    "version": 3
   },
   "file_extension": ".py",
   "mimetype": "text/x-python",
   "name": "python",
   "nbconvert_exporter": "python",
   "pygments_lexer": "ipython3",
   "version": "3.11.0"
  },
  "orig_nbformat": 4,
  "vscode": {
   "interpreter": {
    "hash": "9adc08c4c44d14e62d286c3a02ffa018f57bdb6798e351c4e38c49c69432e58f"
   }
  }
 },
 "nbformat": 4,
 "nbformat_minor": 2
}
