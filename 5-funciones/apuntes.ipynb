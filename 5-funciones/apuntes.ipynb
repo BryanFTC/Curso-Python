{
 "cells": [
  {
   "attachments": {},
   "cell_type": "markdown",
   "metadata": {},
   "source": [
    "Funcion --> Codigo reutilizable\n",
    "Se les da nombre deacuerdo a su tarea\n",
    "Ej:\n",
    "    def nombre():\n",
    "        pass\n",
    "\n",
    "- Las funciones siempre deben ser invocadas luego de su definicion\n",
    "\n",
    "Parametro --> Variable que va usar una funcion\n",
    "\n",
    "- Las funciones son lenguaje de primer nivel.\n",
    "- Si una variable global y una variable local tienen el mismo nombre al ejecutar prevalece la   variable local.\n",
    "- Si usammos de parametro\n",
    "    *args --> una tupla\n",
    "    **kwargs --> un diccionario\n",
    "- Las funciones anonimas usan la terminologia lamdda: sumatoria = lambda x: x+x\n"
   ]
  },
  {
   "cell_type": "code",
   "execution_count": 3,
   "metadata": {},
   "outputs": [
    {
     "name": "stdout",
     "output_type": "stream",
     "text": [
      "Es bisiesto\n"
     ]
    }
   ],
   "source": [
    "def bisiesto(anyo):\n",
    "    if anyo%4 == 0:\n",
    "        return \"Es bisiesto\"\n",
    "    \n",
    "    else:\n",
    "        return \"No es bisiesto\"\n",
    "\n",
    "print(bisiesto(2000))"
   ]
  }
 ],
 "metadata": {
  "kernelspec": {
   "display_name": "Python 3.11.0 64-bit",
   "language": "python",
   "name": "python3"
  },
  "language_info": {
   "codemirror_mode": {
    "name": "ipython",
    "version": 3
   },
   "file_extension": ".py",
   "mimetype": "text/x-python",
   "name": "python",
   "nbconvert_exporter": "python",
   "pygments_lexer": "ipython3",
   "version": "3.11.0"
  },
  "orig_nbformat": 4,
  "vscode": {
   "interpreter": {
    "hash": "9adc08c4c44d14e62d286c3a02ffa018f57bdb6798e351c4e38c49c69432e58f"
   }
  }
 },
 "nbformat": 4,
 "nbformat_minor": 2
}
