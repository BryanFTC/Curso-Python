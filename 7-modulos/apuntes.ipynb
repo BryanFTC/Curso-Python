{
 "cells": [
  {
   "attachments": {},
   "cell_type": "markdown",
   "metadata": {},
   "source": [
    "Un modulo es un fichero en el disco duro que contiene una serie de sentencias y definiciones en python.\n",
    "Los modulos se agrupan en paquetes.\n",
    "Un paquete es una coleccion de modulos y paquetes.\n",
    "Un paquete en python es un directorio pero con un fichero dentro especial.\n",
    "El fichero especial se tiene que llamar __init__.py\n",
    "pypi.org python packages index\n",
    "Un ambito es el alcance de una funcion o una variable en el contexto de nuestro programa"
   ]
  }
 ],
 "metadata": {
  "kernelspec": {
   "display_name": "Python 3",
   "language": "python",
   "name": "python3"
  },
  "language_info": {
   "name": "python",
   "version": "3.11.0"
  },
  "orig_nbformat": 4,
  "vscode": {
   "interpreter": {
    "hash": "9adc08c4c44d14e62d286c3a02ffa018f57bdb6798e351c4e38c49c69432e58f"
   }
  }
 },
 "nbformat": 4,
 "nbformat_minor": 2
}
