{
 "cells": [
  {
   "cell_type": "markdown",
   "metadata": {},
   "source": [
    "- Python es un lenguaje interpretado\n",
    "- Tiene una herramienta llamda pip, se usa para la instalacion de herramientas.\n",
    "    ej: pip install scipy\n",
    "        pip uninstall numpy\n",
    "- pypi pagina para encontrar herramientas de python\n",
    "- \"pip list\" muestra todos los paquetes y sus versiones\n",
    "- \"pip show 'nombre del paquete'\" muestra informacion detallada del paquete"
   ]
  }
 ],
 "metadata": {
  "language_info": {
   "name": "python"
  },
  "orig_nbformat": 4
 },
 "nbformat": 4,
 "nbformat_minor": 2
}
