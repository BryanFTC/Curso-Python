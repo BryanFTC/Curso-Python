{
 "cells": [
  {
   "cell_type": "markdown",
   "metadata": {},
   "source": [
    "CREAR INTERFACES\n",
    "Para hacer interfaces usar:\n",
    "- PyQt\n",
    "- gtk\n",
    "- Qt\n",
    "- wxPython\n",
    "- tkinter(comenzar a aprender este)\n",
    "\n",
    "BACKEND\n",
    "Se emplea para hacer sistemas de backend. \n",
    "Se usan los siguientes frameworks:\n",
    "- Django\n",
    "- Flask\n",
    "\n",
    "BASES DE DATOS\n",
    "Se recomienda:\n",
    "- MySQL\n",
    "- psycopg\n",
    "- pyGreSQl\n",
    "- MariaDB\n",
    "- PyMongo\n",
    "- pysqlite3\n",
    "\n",
    "CALCULOS MATEMATICOS AVANZADOS\n",
    "Usar:\n",
    "- Numpy\n",
    "- Scipy\n",
    "\n",
    "ANALISIS DE DATOS\n",
    "Usar:\n",
    "- pandas\n"
   ]
  }
 ],
 "metadata": {
  "language_info": {
   "name": "python"
  },
  "orig_nbformat": 4
 },
 "nbformat": 4,
 "nbformat_minor": 2
}
