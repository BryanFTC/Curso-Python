{
 "cells": [
  {
   "cell_type": "markdown",
   "metadata": {},
   "source": [
    "- su funcion es guiar la ejecucion de nuestro programa\n",
    "- \"AND\" & \"OR\"\n",
    "- if, elif, else\n",
    "\n",
    "    if condicion:\n",
    "        acciones en if 1\n",
    "        acciones en if 2\n",
    "\n",
    "    acciones fuera del if\n",
    "\n",
    "- while , debe tener un mecanismo que detenga el bucle.\n",
    "- break , finaliza la ejecucion del bucle inmediatamente anterior\n",
    "- continue, fuerza la siguiente iteracion\n",
    "- for, se utiliza para recorrer. Posee un {else}, este se ejecuta siempre y cuando no se haya ejecutado un break en {for}:\n",
    "    lista = [\"hola\",\"mensaje\",\"adios\"]\n",
    "    for palabra in lista:\n",
    "        if palabra == \"mensaje:\n",
    "            print(\"Palabra encontrada)\n",
    "            break\n",
    "    else:\n",
    "        print(\"No la he encontrado\")\n",
    "\n",
    "- switch(match), es una conveniencia para comparar una variable con determinados valores y actuar en consecuencia\n",
    "- las variables tienen un ambito. Existe ambito global y ambito de bucle.\n",
    "- pass, es un place older(). Sirve para marcar cosas."
   ]
  }
 ],
 "metadata": {
  "kernelspec": {
   "display_name": "Python 3.11.0 64-bit",
   "language": "python",
   "name": "python3"
  },
  "language_info": {
   "codemirror_mode": {
    "name": "ipython",
    "version": 3
   },
   "file_extension": ".py",
   "mimetype": "text/x-python",
   "name": "python",
   "nbconvert_exporter": "python",
   "pygments_lexer": "ipython3",
   "version": "3.11.0 (main, Oct 24 2022, 18:26:48) [MSC v.1933 64 bit (AMD64)]"
  },
  "orig_nbformat": 4,
  "vscode": {
   "interpreter": {
    "hash": "9adc08c4c44d14e62d286c3a02ffa018f57bdb6798e351c4e38c49c69432e58f"
   }
  }
 },
 "nbformat": 4,
 "nbformat_minor": 2
}
